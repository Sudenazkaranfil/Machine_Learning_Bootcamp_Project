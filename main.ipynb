{
  "nbformat": 4,
  "nbformat_minor": 0,
  "metadata": {
    "colab": {
      "provenance": []
    },
    "kernelspec": {
      "name": "python3",
      "display_name": "Python 3"
    },
    "language_info": {
      "name": "python"
    }
  },
  "cells": [
    {
      "cell_type": "markdown",
      "source": [
        "**1. Kütüphaneleri İçe Aktarma**"
      ],
      "metadata": {
        "id": "uZLAZ1OVS_vM"
      }
    },
    {
      "cell_type": "code",
      "execution_count": 58,
      "metadata": {
        "id": "oUesZdZkS1FJ"
      },
      "outputs": [],
      "source": [
        "# Gerekli kütüphaneleri içe aktarma\n",
        "import pandas as pd\n",
        "import numpy as np\n",
        "import seaborn as sns\n",
        "from sklearn.metrics import r2_score\n",
        "import matplotlib.pyplot as plt\n",
        "from sklearn.model_selection import train_test_split\n",
        "from sklearn.preprocessing import StandardScaler\n",
        "from sklearn.metrics import mean_squared_error, mean_absolute_error, r2_score, confusion_matrix, classification_report\n",
        "from sklearn.naive_bayes import MultinomialNB\n",
        "from sklearn.svm import SVC\n",
        "from sklearn.tree import DecisionTreeClassifier\n",
        "from sklearn.ensemble import RandomForestClassifier\n",
        "from imblearn.over_sampling import SMOTE\n",
        "import warnings\n"
      ]
    },
    {
      "cell_type": "markdown",
      "source": [
        "Bu adımda projede kullanacağımız gerekli Python kütüphanelerini içe aktarıyoruz:\n",
        "\n",
        "* pandas: Veri analizinde ve veri  \n",
        "manipülasyonunda kullanılır.\n",
        "* train_test_split: Veriyi eğitim ve test olarak ayırır.\n",
        "* StandardScaler: Veriyi normalize eder (özelliklerin aynı ölçeğe getirilmesi).\n",
        "* classification_report, confusion_matrix: Model performansını değerlendirmek için kullanılır.\n",
        "* SMOTE: Dengesiz veri kümelerini dengelemek için kullanılan bir yöntemdir.\n",
        "* MultinomialNB, SVC, DecisionTreeClassifier, RandomForestClassifier: Farklı makine öğrenmesi sınıflandırma algoritmalarıdır."
      ],
      "metadata": {
        "id": "ojYptd7ufB-n"
      }
    },
    {
      "cell_type": "markdown",
      "source": [
        "**2. Veri Kümesini Okuma**\n"
      ],
      "metadata": {
        "id": "u3-Vb2O4TbjS"
      }
    },
    {
      "cell_type": "code",
      "source": [
        "# Veri kümesini okuma (her bir dosyadan 20k satır alarak)\n",
        "df1 = pd.read_csv('GooglePayIndia.csv', nrows=20000)\n",
        "df2 = pd.read_csv('PaytmIndia.csv', nrows=20000)\n",
        "df3 = pd.read_csv('PhonePayIndia.csv', nrows=20000)"
      ],
      "metadata": {
        "id": "sp1Lx7nATmEs"
      },
      "execution_count": 60,
      "outputs": []
    },
    {
      "cell_type": "markdown",
      "source": [
        "Bu adımda üç farklı veri setini okuyoruz ve her birinden sadece ilk 20.000 satırı alıyoruz. Bu, bellek yönetimini daha verimli hale getirmemizi sağlar."
      ],
      "metadata": {
        "id": "ujpCyILwiz8E"
      }
    },
    {
      "cell_type": "markdown",
      "source": [
        "**3. Veri Kümesini Birleştirme**"
      ],
      "metadata": {
        "id": "5h385_BPTsNP"
      }
    },
    {
      "cell_type": "code",
      "source": [
        "# Üç veri kümesini birleştirerek tek bir veri çerçevesi oluşturma\n",
        "df_combined = pd.concat([df1, df2, df3], ignore_index=True)\n",
        "df_combined.to_csv('main_dataset.csv', index=False)\n",
        "df = pd.read_csv('main_dataset.csv')"
      ],
      "metadata": {
        "id": "rxqdf4qTTpCH"
      },
      "execution_count": 61,
      "outputs": []
    },
    {
      "cell_type": "markdown",
      "source": [
        "Üç farklı veri setini birleştiriyoruz ve tek bir veri çerçevesi (DataFrame) haline getiriyoruz. Sonuçta oluşan bu veri setini main_dataset.csv olarak kaydediyoruz. Bu adım, farklı kaynaklardan gelen verileri tek bir yerde toplamak ve analiz yapmak için gereklidir."
      ],
      "metadata": {
        "id": "4wqjbw3Yi7DE"
      }
    },
    {
      "cell_type": "markdown",
      "source": [
        "**4. Gereksiz Sütunları Kaldırma**"
      ],
      "metadata": {
        "id": "_m7cNLTYTxSt"
      }
    },
    {
      "cell_type": "code",
      "source": [
        "df = df.drop(columns=['Unnamed: 0', 'reviewId', 'userImage', 'reviewCreatedVersion', 'at', 'replyContent', 'repliedAt'])"
      ],
      "metadata": {
        "id": "O5pJnqJRT1yl"
      },
      "execution_count": 62,
      "outputs": []
    },
    {
      "cell_type": "markdown",
      "source": [
        "* drop(): Pandas veri çerçevesinden (DataFrame) belirli sütunları veya satırları kaldırmak için kullanılan bir fonksiyondur.\n",
        "* columns parametresi: Kaldırılacak sütunların isimlerini belirtilir."
      ],
      "metadata": {
        "id": "iRJB99VCkALJ"
      }
    },
    {
      "cell_type": "markdown",
      "source": [
        "**5. Eksik Verileri Kontrol Etme**"
      ],
      "metadata": {
        "id": "ayI40gDoT9Lm"
      }
    },
    {
      "cell_type": "code",
      "source": [
        "# Eksik verileri kontrol etme\n",
        "print(\"\\nEksik Veriler:\")\n",
        "print(df.head(10))\n",
        "print(df.isnull().sum())"
      ],
      "metadata": {
        "colab": {
          "base_uri": "https://localhost:8080/"
        },
        "id": "M4kGvceuT80O",
        "outputId": "8411f85b-69d9-4294-fd02-41a62b166264"
      },
      "execution_count": 63,
      "outputs": [
        {
          "output_type": "stream",
          "name": "stdout",
          "text": [
            "\n",
            "Eksik Veriler:\n",
            "           userName                                            content  score  \\\n",
            "0        Len Pagnam   How do add a boarding pass? I see no passes tab.      1   \n",
            "1    Benjamin Silva                                               Best      5   \n",
            "2      PARVESH MIAR                                             All ok      5   \n",
            "3          Mikko L.  Rasy to use really... But there never, ever sh...      3   \n",
            "4     A Google user  I still do not understand why your restricting...      3   \n",
            "5       Penny Smith  Keeps disappearing from home page. Very disapp...      2   \n",
            "6  Jevgeni Litvinov  No ticket/transport support for Europe. Also n...      4   \n",
            "7       Robin Cramp  App is now working for me as expected. Google ...      5   \n",
            "8  Matthew Chandler                                               Good      5   \n",
            "9           Nadia H  whether it works is a matter of luck. detect v...      1   \n",
            "\n",
            "   thumbsUpCount  \n",
            "0              0  \n",
            "1              0  \n",
            "2              0  \n",
            "3              0  \n",
            "4            251  \n",
            "5              0  \n",
            "6              0  \n",
            "7             11  \n",
            "8              0  \n",
            "9              0  \n",
            "userName         0\n",
            "content          4\n",
            "score            0\n",
            "thumbsUpCount    0\n",
            "dtype: int64\n"
          ]
        }
      ]
    },
    {
      "cell_type": "markdown",
      "source": [
        "* df_combined.isnull().sum() Veri setinde eksik değer olup olmadığını kontrol etmek için bu kodu kullanıyoruz. Her sütundaki eksik değerlerin sayısını döndürür. Eğer eksik veri varsa, bunu düzeltmek için ileride çeşitli stratejiler uygulayabiliriz."
      ],
      "metadata": {
        "id": "4krbCwAKjYo1"
      }
    },
    {
      "cell_type": "markdown",
      "source": [
        "**6. Eksik Verileri Kaldırma**"
      ],
      "metadata": {
        "id": "NGUYEegaUaRI"
      }
    },
    {
      "cell_type": "code",
      "source": [
        "df = df.dropna(subset=['content'])"
      ],
      "metadata": {
        "id": "K-kMMVpZUb4R"
      },
      "execution_count": 64,
      "outputs": []
    },
    {
      "cell_type": "markdown",
      "source": [
        "* Eksik verileri içeren satırları veri setinden çıkartıyoruz. Bu adım, makine öğrenmesi modelleri eksik veri ile çalışmakta zorlandığı için gerekli olabilir."
      ],
      "metadata": {
        "id": "eyONfkEbjm73"
      }
    },
    {
      "cell_type": "markdown",
      "source": [
        "**7. Temizlenmiş Veri Görüntüleme**"
      ],
      "metadata": {
        "id": "7FIQlMytUddC"
      }
    },
    {
      "cell_type": "code",
      "source": [
        "# Temizlenmiş veri kümesinin ilk 10 satırını görüntüleme\n",
        "print(\"\\nTemizlenmiş Veri (İlk 10 Satır):\")\n",
        "print(df.head(10))"
      ],
      "metadata": {
        "colab": {
          "base_uri": "https://localhost:8080/"
        },
        "id": "Bj3C64LsUhap",
        "outputId": "7fcc6de6-d353-42f5-8532-a0ea8856104a"
      },
      "execution_count": 65,
      "outputs": [
        {
          "output_type": "stream",
          "name": "stdout",
          "text": [
            "\n",
            "Temizlenmiş Veri (İlk 10 Satır):\n",
            "           userName                                            content  score  \\\n",
            "0        Len Pagnam   How do add a boarding pass? I see no passes tab.      1   \n",
            "1    Benjamin Silva                                               Best      5   \n",
            "2      PARVESH MIAR                                             All ok      5   \n",
            "3          Mikko L.  Rasy to use really... But there never, ever sh...      3   \n",
            "4     A Google user  I still do not understand why your restricting...      3   \n",
            "5       Penny Smith  Keeps disappearing from home page. Very disapp...      2   \n",
            "6  Jevgeni Litvinov  No ticket/transport support for Europe. Also n...      4   \n",
            "7       Robin Cramp  App is now working for me as expected. Google ...      5   \n",
            "8  Matthew Chandler                                               Good      5   \n",
            "9           Nadia H  whether it works is a matter of luck. detect v...      1   \n",
            "\n",
            "   thumbsUpCount  \n",
            "0              0  \n",
            "1              0  \n",
            "2              0  \n",
            "3              0  \n",
            "4            251  \n",
            "5              0  \n",
            "6              0  \n",
            "7             11  \n",
            "8              0  \n",
            "9              0  \n"
          ]
        }
      ]
    },
    {
      "cell_type": "markdown",
      "source": [
        "**8. Puan Dağılımını Görselleştirme**"
      ],
      "metadata": {
        "id": "oiLORi0tUmn5"
      }
    },
    {
      "cell_type": "code",
      "source": [
        "# Puanların dağılımını görselleştirme\n",
        "plt.figure(figsize=(12, 6))\n",
        "sns.histplot(df['score'], kde=True, bins=30, color='blue')\n",
        "plt.title('Score Dağılımı')\n",
        "plt.xlabel('Puan')\n",
        "plt.ylabel('Frekans')\n",
        "plt.show()"
      ],
      "metadata": {
        "colab": {
          "base_uri": "https://localhost:8080/",
          "height": 564
        },
        "id": "sZRP7Q8cUl6v",
        "outputId": "7909eef9-f7a9-4a58-a4ee-9690bc2b1faf"
      },
      "execution_count": 66,
      "outputs": [
        {
          "output_type": "display_data",
          "data": {
            "text/plain": [
              "<Figure size 1200x600 with 1 Axes>"
            ],
            "image/png": "[encoded data removed]"
          },
          "metadata": {}
        }
      ]
    },
    {
      "cell_type": "markdown",
      "source": [
        "**9. Korelasyon Matrisi**"
      ],
      "metadata": {
        "id": "mKppEVTrUvkZ"
      }
    },
    {
      "cell_type": "code",
      "source": [
        "# Korelasyon matrisini hesaplayıp görselleştirme\n",
        "plt.figure(figsize=(8, 6))\n",
        "corr_matrix = df[['score', 'thumbsUpCount']].corr()\n",
        "sns.heatmap(corr_matrix, annot=True, cmap='coolwarm', vmin=-1, vmax=1)\n",
        "plt.title('Korelasyon Matrisi Heatmap')\n",
        "plt.show()"
      ],
      "metadata": {
        "colab": {
          "base_uri": "https://localhost:8080/",
          "height": 545
        },
        "id": "6sxsXyUJUx65",
        "outputId": "b5633cf4-5263-4484-f045-6bd963fc7d23"
      },
      "execution_count": 67,
      "outputs": [
        {
          "output_type": "display_data",
          "data": {
            "text/plain": [
              "<Figure size 800x600 with 2 Axes>"
            ],
            "image/png": "[encoded data removed]"
          },
          "metadata": {}
        }
      ]
    },
    {
      "cell_type": "markdown",
      "source": [
        "**10. Özellikler ve Hedef Değişken Belirleme**"
      ],
      "metadata": {
        "id": "MU3dOLbbUxfZ"
      }
    },
    {
      "cell_type": "code",
      "source": [
        "# Özellikler (X) ve hedef değişken (y) belirleme\n",
        "X = df[['score', 'thumbsUpCount']]\n",
        "y = df['score']"
      ],
      "metadata": {
        "id": "ARvrwuY2U0mo"
      },
      "execution_count": 68,
      "outputs": []
    },
    {
      "cell_type": "markdown",
      "source": [
        "**11. Medyan ile Sınıflara Ayırma**"
      ],
      "metadata": {
        "id": "pXzzZYzRU6Rb"
      }
    },
    {
      "cell_type": "code",
      "source": [
        "# Medyanı kullanarak iki sınıfa ayırma\n",
        "df['score_class'] = (df['score'] > df['score'].median()).astype(int)\n",
        "score_distribution = df['score_class'].value_counts()\n",
        "print(\"\\nSınıf Dağılımı:\")\n",
        "print(score_distribution)"
      ],
      "metadata": {
        "colab": {
          "base_uri": "https://localhost:8080/"
        },
        "id": "DiXd7Wr_U_Va",
        "outputId": "f63e40b6-e434-4586-cba6-07c21770d8ca"
      },
      "execution_count": 75,
      "outputs": [
        {
          "output_type": "stream",
          "name": "stdout",
          "text": [
            "\n",
            "Sınıf Dağılımı:\n",
            "score_class\n",
            "0    51737\n",
            "Name: count, dtype: int64\n"
          ]
        }
      ]
    },
    {
      "cell_type": "markdown",
      "source": [
        "**12. Eğitim ve Test Setlerine Ayırma**"
      ],
      "metadata": {
        "id": "Mw5JqA8HVCUK"
      }
    },
    {
      "cell_type": "code",
      "source": [
        "# Eğitim ve test setlerine ayırma (sınıflandırma)\n",
        "X_train_class, X_test_class, y_train_class, y_test_class = train_test_split(X, df['score_class'], test_size=0.2, random_state=42)"
      ],
      "metadata": {
        "id": "epk66NQgVCCe"
      },
      "execution_count": 70,
      "outputs": []
    },
    {
      "cell_type": "markdown",
      "source": [
        "* train_test_split: Veriyi %80 eğitim ve %20 test olarak ikiye böler.\n",
        "\n"
      ],
      "metadata": {
        "id": "9T4J2ekgfz1_"
      }
    },
    {
      "cell_type": "markdown",
      "source": [
        "**13. Özelliklerin Ölçeklenmesi**"
      ],
      "metadata": {
        "id": "bOZezg3yVG1-"
      }
    },
    {
      "cell_type": "code",
      "source": [
        "# Özelliklerin ölçeklenmesi\n",
        "scaler = StandardScaler()\n",
        "X_train_class_scaled = scaler.fit_transform(X_train_class)\n",
        "X_test_class_scaled = scaler.transform(X_test_class)"
      ],
      "metadata": {
        "id": "k1MaF7lZVQPq"
      },
      "execution_count": 76,
      "outputs": []
    },
    {
      "cell_type": "markdown",
      "source": [
        "* StandardScaler: Veriyi normalize ederek her bir özelliğin ortalamasını 0, standart sapmasını 1 yapar. Bu işlem, birçok makine öğrenmesi modelinde modelin daha iyi öğrenmesini sağlar."
      ],
      "metadata": {
        "id": "2nBcArV_f9Up"
      }
    },
    {
      "cell_type": "markdown",
      "source": [
        "**14. SMOTE Kontrolü ve Uygulama**"
      ],
      "metadata": {
        "id": "247C8vZJVR8N"
      }
    },
    {
      "cell_type": "code",
      "source": [
        "# Sınıf dengesizliği kontrolü ve SMOTE kullanımı\n",
        "print(\"\\nEğitim Setindeki Sınıf Dağılımı:\")\n",
        "print(pd.Series(y_train_class).value_counts())\n",
        "\n",
        "# Eğer sınıflardan sadece biri varsa, SMOTE uygulanamaz\n",
        "if len(np.unique(y_train_class)) > 1:\n",
        "    smote = SMOTE(random_state=42)\n",
        "    X_resampled, y_resampled = smote.fit_resample(X_train_class_scaled, y_train_class)\n",
        "else:\n",
        "    print(\"Eğitim setinde yalnızca bir sınıf var. SMOTE uygulanamaz.\")\n",
        "    X_resampled, y_resampled = X_train_class_scaled, y_train_class"
      ],
      "metadata": {
        "colab": {
          "base_uri": "https://localhost:8080/"
        },
        "id": "zOocWCJ9VVVH",
        "outputId": "bffb122a-620c-4e8e-acc1-aa724640af9a"
      },
      "execution_count": 72,
      "outputs": [
        {
          "output_type": "stream",
          "name": "stdout",
          "text": [
            "\n",
            "Eğitim Setindeki Sınıf Dağılımı:\n",
            "score_class\n",
            "0    41389\n",
            "Name: count, dtype: int64\n",
            "Eğitim setinde yalnızca bir sınıf var. SMOTE uygulanamaz.\n"
          ]
        }
      ]
    },
    {
      "cell_type": "markdown",
      "source": [
        "* SMOTE: Eğer verinizde bir sınıfın sayısı diğerlerinden çok azsa, SMOTE yöntemiyle o az olan sınıf için sentetik (yapay) veriler oluşturulur. Bu, modelin tüm sınıfları daha dengeli öğrenmesini sağlar."
      ],
      "metadata": {
        "id": "PigZsOolgJ4f"
      }
    },
    {
      "cell_type": "markdown",
      "source": [
        "**15. Model Tanımlama**"
      ],
      "metadata": {
        "id": "LCGf_YcSVT8D"
      }
    },
    {
      "cell_type": "code",
      "source": [
        "# Model tanımlama\n",
        "models = {\n",
        "    \"Naive Bayes\": MultinomialNB(),\n",
        "    \"SVM\": SVC(),\n",
        "    \"Decision Tree\": DecisionTreeClassifier(),\n",
        "    \"Random Forest\": RandomForestClassifier()\n",
        "}"
      ],
      "metadata": {
        "id": "71k3qr0CVdCu"
      },
      "execution_count": 77,
      "outputs": []
    },
    {
      "cell_type": "markdown",
      "source": [
        "Bu adımda, dört farklı makine öğrenmesi sınıflandırma modeli kullanılıyor:\n",
        "\n",
        "* Naive Bayes: Genellikle metin sınıflandırma gibi veri setlerinde kullanılır. Ancak, negatif veya sıfır değerlerle çalışamaz. Bu nedenle, veri setinde negatif değerler varsa bu model hata verebilir.\n",
        "* SVM (Support Vector Machines): Karmaşık verilerde iyi performans gösteren güçlü bir sınıflandırma algoritmasıdır. Ancak verideki sınıf sayısının yetersizliği gibi durumlarda hata verebilir.\n",
        "* Karar Ağacı (Decision Tree): Verinin özelliklerine göre dallar oluşturarak sınıflandırma yapar. Karar ağaçları hızlıdır, ancak aşırı öğrenme (overfitting) riski taşır.\n",
        "* Rastgele Orman (Random Forest): Birden fazla karar ağacı oluşturup, bu ağaçlardan alınan sonuçları birleştirerek nihai sınıflandırmayı yapar. Daha sağlam sonuçlar üretir ve genellikle karar ağaçlarına göre daha az overfitting yapar."
      ],
      "metadata": {
        "id": "vg5Hb3vPgyDt"
      }
    },
    {
      "cell_type": "markdown",
      "source": [
        "**16. Modelleri Eğitim ve Değerlendirme**"
      ],
      "metadata": {
        "id": "XZ1c1ZHOVeXk"
      }
    },
    {
      "cell_type": "code",
      "source": [
        "# Modelleri eğitim ve değerlendirme\n",
        "for name, model in models.items():\n",
        "    try:\n",
        "        model.fit(X_resampled, y_resampled)\n",
        "        y_pred = model.predict(X_test_class_scaled)\n",
        "\n",
        "        # Model sonuçlarını görüntüleme\n",
        "        print(f\"\\n{name} Model Sonuçları:\")\n",
        "        print(\"Confusion Matrix:\")\n",
        "        print(confusion_matrix(y_test_class, y_pred))\n",
        "        print(\"Classification Report:\")\n",
        "        print(classification_report(y_test_class, y_pred))\n",
        "\n",
        "        # Ek değerlendirme metrikleri\n",
        "        mae = mean_absolute_error(y_test_class, y_pred)\n",
        "        mse = mean_squared_error(y_test_class, y_pred)\n",
        "        r2 = r2_score(y_test_class, y_pred)\n",
        "\n",
        "        print(f\"Mean Absolute Error (MAE): {mae:.4f}\")\n",
        "        print(f\"Mean Squared Error (MSE): {mse:.4f}\")\n",
        "        print(f\"R-squared (R²): {r2:.4f}\")\n",
        "    except ValueError as e:\n",
        "        print(f\"{name} Modelinde Hata: {e}\")"
      ],
      "metadata": {
        "colab": {
          "base_uri": "https://localhost:8080/"
        },
        "id": "EYTvzPyrVeDk",
        "outputId": "7d331067-7c30-40f6-c990-bf42a698d463"
      },
      "execution_count": 74,
      "outputs": [
        {
          "output_type": "stream",
          "name": "stdout",
          "text": [
            "Naive Bayes Modelinde Hata: Negative values in data passed to MultinomialNB (input X)\n",
            "SVM Modelinde Hata: The number of classes has to be greater than one; got 1 class\n",
            "\n",
            "Decision Tree Model Sonuçları:\n",
            "Confusion Matrix:\n",
            "[[10348]]\n",
            "Classification Report:\n",
            "              precision    recall  f1-score   support\n",
            "\n",
            "           0       1.00      1.00      1.00     10348\n",
            "\n",
            "    accuracy                           1.00     10348\n",
            "   macro avg       1.00      1.00      1.00     10348\n",
            "weighted avg       1.00      1.00      1.00     10348\n",
            "\n",
            "Mean Absolute Error (MAE): 0.0000\n",
            "Mean Squared Error (MSE): 0.0000\n",
            "R-squared (R²): 1.0000\n",
            "\n",
            "Random Forest Model Sonuçları:\n",
            "Confusion Matrix:\n",
            "[[10348]]\n",
            "Classification Report:\n",
            "              precision    recall  f1-score   support\n",
            "\n",
            "           0       1.00      1.00      1.00     10348\n",
            "\n",
            "    accuracy                           1.00     10348\n",
            "   macro avg       1.00      1.00      1.00     10348\n",
            "weighted avg       1.00      1.00      1.00     10348\n",
            "\n",
            "Mean Absolute Error (MAE): 0.0000\n",
            "Mean Squared Error (MSE): 0.0000\n",
            "R-squared (R²): 1.0000\n"
          ]
        }
      ]
    },
    {
      "cell_type": "markdown",
      "source": [
        "* Bu adımda, farklı makine öğrenmesi modelleri eğitilir ve performansları değerlendirilir.\n",
        "* model.fit: Modeli dengelenmiş eğitim verileriyle eğitir (SMOTE ile üretilen veriler).\n",
        "* model.predict: Modelin test verileri üzerindeki tahminlerini alır.\n",
        "* confusion_matrix: Modelin doğruluğunu ölçmek için kullanılan bir tablo. Bu tabloda, doğru ve yanlış tahminler gösterilir.\n",
        "* classification_report: Precision, Recall, F1-score gibi performans metriklerini verir."
      ],
      "metadata": {
        "id": "WIRbZQhygWJv"
      }
    },
    {
      "cell_type": "markdown",
      "source": [
        "Confusion Matrix (Karmaşıklık Matrisi) 4 alt başlığı vardır:\n",
        " * True Positive (Doğru Pozitif): Modelin doğru olarak pozitif sınıfa atadığı örnekler.\n",
        " * True Negative (Doğru Negatif): Modelin doğru olarak negatif sınıfa atadığı örnekler.\n",
        " * False Positive (Yanlış Pozitif): Negatif sınıfa ait olup model tarafından yanlışlıkla pozitif sınıfa atanan örnekler.\n",
        " * False Negative (Yanlış Negatif): Pozitif sınıfa ait olup model tarafından yanlışlıkla negatif sınıfa atanan örnekler.\n"
      ],
      "metadata": {
        "id": "04EOGmrmh2lQ"
      }
    },
    {
      "cell_type": "markdown",
      "source": [],
      "metadata": {
        "id": "yCWJl4k-uNhw"
      }
    },
    {
      "cell_type": "markdown",
      "source": [
        "Classification Report (Sınıflandırma Raporu): Modelin performansını çeşitli metriklerle özetler:\n",
        " * Precision: Modelin pozitif tahminlerinden kaçının doğru olduğunu gösterir.\n",
        " * Recall: Pozitif sınıfa ait tüm veriler arasında modelin ne kadarını doğru sınıflandırdığını gösterir.\n",
        " * F1-Score: Precision ve Recall'ün harmonik ortalaması. Genel performansı gösterir."
      ],
      "metadata": {
        "id": "LXdagjAWiL09"
      }
    },
    {
      "cell_type": "markdown",
      "source": [
        "TESTLER\n",
        "* MAE ve MSE değerlerinin 0 olması, modelinizin test setindeki tahminlerinin tamamının doğru olduğunu gösterir. Bu, modelin sadece bir sınıf (örneğin, tüm tahminler 0) tahmin etmesi durumunda da gerçekleşebilir.\n",
        "* R², modelin ne kadar iyi bir uyum sağladığını gösterir ve genellikle regresyon problemleri için kullanılır, ama sınıflandırma için de modelin genel performansını değerlendirmek açısından faydalı olabilir."
      ],
      "metadata": {
        "id": "9cWapZPevPFI"
      }
    }
  ]
}